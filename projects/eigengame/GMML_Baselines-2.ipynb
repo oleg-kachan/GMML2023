{
  "nbformat": 4,
  "nbformat_minor": 0,
  "metadata": {
    "colab": {
      "provenance": []
    },
    "kernelspec": {
      "name": "python3",
      "display_name": "Python 3"
    },
    "language_info": {
      "name": "python"
    }
  },
  "cells": [
    {
      "cell_type": "markdown",
      "source": [
        "# Synthetic data"
      ],
      "metadata": {
        "id": "IMOHvflWWjY6"
      }
    },
    {
      "cell_type": "code",
      "execution_count": 22,
      "metadata": {
        "id": "P7CeL-SDKPXh"
      },
      "outputs": [],
      "source": [
        "from typing import Tuple\n",
        "\n",
        "import chex\n",
        "import jax\n",
        "import jax.numpy as jnp\n",
        "import numpy as np\n",
        "import scipy.linalg\n",
        "\n",
        "import time\n",
        "\n",
        "def compute_ground_truths(data, sparse=False, subset_by_index=None):\n",
        "    covariance_matrix = data.T @ data / data.shape[0]\n",
        "    if sparse:\n",
        "        covariance_matrix = covariance_matrix.toarray()\n",
        "    true_eigenvalues, true_eigenvectors = scipy.linalg.eigh(\n",
        "      covariance_matrix, subset_by_index=subset_by_index\n",
        "    )\n",
        "\n",
        "    idxs = np.argsort(true_eigenvalues)[::-1]\n",
        "\n",
        "    true_eigenvectors = true_eigenvectors[:, idxs].T\n",
        "    true_eigenvalues = true_eigenvalues[idxs]\n",
        "    return (\n",
        "      true_eigenvalues,\n",
        "      true_eigenvectors,\n",
        "    )\n",
        "\n",
        "\n",
        "def generate_data(\n",
        "    key: chex.PRNGKey,\n",
        "    dim: int,\n",
        "    shape\n",
        ") -> chex.Array:\n",
        "    random_matrix = jax.random.normal(key, shape=(dim, dim))\n",
        "    covariance_matrix = np.einsum(\n",
        "      'dn, dm -> nm',\n",
        "      random_matrix,\n",
        "      random_matrix,\n",
        "    ) / np.sqrt(dim)\n",
        "    data = jax.random.multivariate_normal(\n",
        "      key=key,\n",
        "      mean=jnp.zeros(dim),\n",
        "      cov=covariance_matrix,\n",
        "      shape=(shape,),\n",
        "      method='svd'\n",
        "    )\n",
        "    return data\n",
        "\n",
        "\n",
        "def synthetic_data_experiments(n, dim, seed=0):\n",
        "    key = jax.random.PRNGKey(seed)\n",
        "    data = generate_data(key, dim, n)\n",
        "    start_time = time.time()\n",
        "    target_eigenvalues, target_eigenvectors = compute_ground_truths(data)\n",
        "    finish_time = time.time()\n",
        "    return finish_time - start_time, target_eigenvalues, target_eigenvectors"
      ]
    },
    {
      "cell_type": "code",
      "source": [
        "measured_time, values, vectors = synthetic_data_experiments(n=1000, dim=1000, seed=0)\n",
        "measured_time"
      ],
      "metadata": {
        "colab": {
          "base_uri": "https://localhost:8080/"
        },
        "id": "PLCPRSboTa8j",
        "outputId": "f70fc863-6744-4d90-fb3b-49076e03256f"
      },
      "execution_count": 25,
      "outputs": [
        {
          "output_type": "execute_result",
          "data": {
            "text/plain": [
              "0.39620518684387207"
            ]
          },
          "metadata": {},
          "execution_count": 25
        }
      ]
    },
    {
      "cell_type": "code",
      "source": [
        "values"
      ],
      "metadata": {
        "colab": {
          "base_uri": "https://localhost:8080/"
        },
        "id": "RjHPOZA2Z9Nz",
        "outputId": "c360bf76-7ab6-46ca-a834-8a0e15dabbfc"
      },
      "execution_count": null,
      "outputs": [
        {
          "output_type": "execute_result",
          "data": {
            "text/plain": [
              "array([ 3.48872528e+02,  3.31940216e+02,  3.29076660e+02,  3.27356598e+02,\n",
              "        3.19750702e+02,  3.18467651e+02,  3.17215942e+02,  3.14275604e+02,\n",
              "        3.07982941e+02,  3.05153381e+02,  3.01177246e+02,  2.94768829e+02,\n",
              "        2.91517090e+02,  2.87832550e+02,  2.84610107e+02,  2.83614014e+02,\n",
              "        2.82868927e+02,  2.77135315e+02,  2.72283295e+02,  2.68787506e+02,\n",
              "        2.67762085e+02,  2.64714020e+02,  2.62681427e+02,  2.61903229e+02,\n",
              "        2.60841034e+02,  2.57551025e+02,  2.55286301e+02,  2.52982635e+02,\n",
              "        2.51806458e+02,  2.49250961e+02,  2.47562927e+02,  2.45150757e+02,\n",
              "        2.43848297e+02,  2.42844696e+02,  2.40717255e+02,  2.37438309e+02,\n",
              "        2.36324127e+02,  2.33342377e+02,  2.30753403e+02,  2.28300293e+02,\n",
              "        2.28017731e+02,  2.26605469e+02,  2.25308517e+02,  2.21369461e+02,\n",
              "        2.19763229e+02,  2.18559067e+02,  2.16479645e+02,  2.14985504e+02,\n",
              "        2.13256989e+02,  2.11030533e+02,  2.10767181e+02,  2.09313553e+02,\n",
              "        2.08586914e+02,  2.06525421e+02,  2.04711258e+02,  2.03459290e+02,\n",
              "        2.01701004e+02,  2.00452744e+02,  1.99316360e+02,  1.97914368e+02,\n",
              "        1.96946854e+02,  1.96029846e+02,  1.93739624e+02,  1.93019867e+02,\n",
              "        1.92865631e+02,  1.90214066e+02,  1.88420044e+02,  1.87586914e+02,\n",
              "        1.87106033e+02,  1.86393890e+02,  1.84564575e+02,  1.82517639e+02,\n",
              "        1.80980911e+02,  1.80425186e+02,  1.78906036e+02,  1.77383224e+02,\n",
              "        1.75729462e+02,  1.75156418e+02,  1.74211929e+02,  1.72432907e+02,\n",
              "        1.71549820e+02,  1.71061783e+02,  1.69491531e+02,  1.68046799e+02,\n",
              "        1.67918350e+02,  1.66640015e+02,  1.64946472e+02,  1.64533127e+02,\n",
              "        1.63174591e+02,  1.62262695e+02,  1.61973633e+02,  1.61341949e+02,\n",
              "        1.60635757e+02,  1.58662949e+02,  1.58440109e+02,  1.56069748e+02,\n",
              "        1.55592697e+02,  1.55100189e+02,  1.54222488e+02,  1.53528000e+02,\n",
              "        1.51584351e+02,  1.50549927e+02,  1.49467575e+02,  1.48610336e+02,\n",
              "        1.48022873e+02,  1.46257019e+02,  1.45963623e+02,  1.45253510e+02,\n",
              "        1.44269257e+02,  1.44028656e+02,  1.43380569e+02,  1.42080109e+02,\n",
              "        1.41201096e+02,  1.39885559e+02,  1.39643631e+02,  1.38563004e+02,\n",
              "        1.37988251e+02,  1.37283920e+02,  1.35482391e+02,  1.34876541e+02,\n",
              "        1.33518387e+02,  1.32631073e+02,  1.32130753e+02,  1.31238647e+02,\n",
              "        1.30590607e+02,  1.30099487e+02,  1.29795868e+02,  1.28347595e+02,\n",
              "        1.27359207e+02,  1.26511604e+02,  1.25708847e+02,  1.25391571e+02,\n",
              "        1.24780457e+02,  1.23815971e+02,  1.23675919e+02,  1.22125565e+02,\n",
              "        1.21538208e+02,  1.20796936e+02,  1.20628410e+02,  1.20238838e+02,\n",
              "        1.18523270e+02,  1.17617432e+02,  1.16856712e+02,  1.16138412e+02,\n",
              "        1.15670700e+02,  1.14292480e+02,  1.13692749e+02,  1.12912750e+02,\n",
              "        1.12431351e+02,  1.11285271e+02,  1.11117363e+02,  1.10642410e+02,\n",
              "        1.10087791e+02,  1.08645325e+02,  1.08132271e+02,  1.07583588e+02,\n",
              "        1.05986877e+02,  1.05841599e+02,  1.05689972e+02,  1.05241318e+02,\n",
              "        1.04965858e+02,  1.03741928e+02,  1.03045082e+02,  1.02764496e+02,\n",
              "        1.02315948e+02,  1.01817741e+02,  1.01245903e+02,  1.00837013e+02,\n",
              "        1.00202080e+02,  9.94530869e+01,  9.86734390e+01,  9.81207657e+01,\n",
              "        9.72368240e+01,  9.67217255e+01,  9.57986984e+01,  9.55835114e+01,\n",
              "        9.49808655e+01,  9.43903656e+01,  9.39284286e+01,  9.33815689e+01,\n",
              "        9.26869812e+01,  9.24156876e+01,  9.17166595e+01,  9.14443588e+01,\n",
              "        9.05370331e+01,  9.02430954e+01,  8.99072495e+01,  8.92829056e+01,\n",
              "        8.82198181e+01,  8.77185440e+01,  8.75965500e+01,  8.68538818e+01,\n",
              "        8.62592239e+01,  8.58755646e+01,  8.53100815e+01,  8.51674042e+01,\n",
              "        8.45936813e+01,  8.38616409e+01,  8.31423111e+01,  8.25228729e+01,\n",
              "        8.22822495e+01,  8.18100815e+01,  8.14542923e+01,  8.10327301e+01,\n",
              "        8.06206512e+01,  8.05042801e+01,  7.97967453e+01,  7.97126465e+01,\n",
              "        7.89741821e+01,  7.75625153e+01,  7.74670181e+01,  7.73523636e+01,\n",
              "        7.66442032e+01,  7.59783783e+01,  7.50746765e+01,  7.48202972e+01,\n",
              "        7.45603180e+01,  7.42388916e+01,  7.34694214e+01,  7.31495743e+01,\n",
              "        7.30380859e+01,  7.29337311e+01,  7.21701431e+01,  7.16151123e+01,\n",
              "        7.06079178e+01,  6.97480469e+01,  6.93898926e+01,  6.93015900e+01,\n",
              "        6.88532867e+01,  6.84782410e+01,  6.81748657e+01,  6.77992172e+01,\n",
              "        6.75898438e+01,  6.68478851e+01,  6.67083969e+01,  6.66010437e+01,\n",
              "        6.60084305e+01,  6.57735748e+01,  6.53366928e+01,  6.48026657e+01,\n",
              "        6.43722610e+01,  6.42544861e+01,  6.40342102e+01,  6.33067284e+01,\n",
              "        6.31144753e+01,  6.22427330e+01,  6.20827141e+01,  6.16152000e+01,\n",
              "        6.13679237e+01,  6.08738098e+01,  6.03823547e+01,  6.02883949e+01,\n",
              "        5.99610443e+01,  5.96100998e+01,  5.93677940e+01,  5.89263649e+01,\n",
              "        5.84396057e+01,  5.80636749e+01,  5.75589142e+01,  5.72364731e+01,\n",
              "        5.69491119e+01,  5.66018715e+01,  5.60945854e+01,  5.57950439e+01,\n",
              "        5.55095139e+01,  5.50408630e+01,  5.43166809e+01,  5.41716080e+01,\n",
              "        5.40201225e+01,  5.37031326e+01,  5.36226044e+01,  5.31722603e+01,\n",
              "        5.29659653e+01,  5.24393501e+01,  5.20212746e+01,  5.16389084e+01,\n",
              "        5.12538986e+01,  5.09616089e+01,  5.07077904e+01,  5.03769379e+01,\n",
              "        5.01012497e+01,  4.97105370e+01,  4.94391747e+01,  4.89156990e+01,\n",
              "        4.85704765e+01,  4.83688774e+01,  4.81148529e+01,  4.79549599e+01,\n",
              "        4.77561798e+01,  4.74559975e+01,  4.70262833e+01,  4.68245811e+01,\n",
              "        4.66163025e+01,  4.62966690e+01,  4.60759239e+01,  4.57647362e+01,\n",
              "        4.56102104e+01,  4.53600311e+01,  4.50895500e+01,  4.45813103e+01,\n",
              "        4.41123619e+01,  4.38465881e+01,  4.34433746e+01,  4.29490395e+01,\n",
              "        4.28873177e+01,  4.26494370e+01,  4.24818649e+01,  4.20878410e+01,\n",
              "        4.19476929e+01,  4.16959572e+01,  4.15693169e+01,  4.11884842e+01,\n",
              "        4.09833107e+01,  4.07403374e+01,  4.04898605e+01,  4.02815208e+01,\n",
              "        4.01717415e+01,  3.97787170e+01,  3.95079002e+01,  3.92328072e+01,\n",
              "        3.89488907e+01,  3.87732468e+01,  3.86790657e+01,  3.82345123e+01,\n",
              "        3.80285225e+01,  3.78090134e+01,  3.74656563e+01,  3.72414360e+01,\n",
              "        3.70261726e+01,  3.67950020e+01,  3.65886574e+01,  3.63294411e+01,\n",
              "        3.62263336e+01,  3.58588791e+01,  3.57149734e+01,  3.53089104e+01,\n",
              "        3.49817886e+01,  3.48297501e+01,  3.46788292e+01,  3.43163185e+01,\n",
              "        3.40713844e+01,  3.38494034e+01,  3.34804306e+01,  3.32013359e+01,\n",
              "        3.30783157e+01,  3.28798409e+01,  3.28052025e+01,  3.25083351e+01,\n",
              "        3.23108215e+01,  3.20776558e+01,  3.18282299e+01,  3.17864094e+01,\n",
              "        3.14605370e+01,  3.12567139e+01,  3.10653839e+01,  3.07541027e+01,\n",
              "        3.06178932e+01,  3.03857632e+01,  3.02511654e+01,  3.00273952e+01,\n",
              "        2.98050938e+01,  2.94915257e+01,  2.92907467e+01,  2.92334290e+01,\n",
              "        2.91205101e+01,  2.88984604e+01,  2.87152157e+01,  2.85681076e+01,\n",
              "        2.83145103e+01,  2.81130390e+01,  2.79227600e+01,  2.77367954e+01,\n",
              "        2.72994614e+01,  2.71922684e+01,  2.68804684e+01,  2.67731113e+01,\n",
              "        2.66883888e+01,  2.65845985e+01,  2.63171864e+01,  2.61472931e+01,\n",
              "        2.60347843e+01,  2.58681850e+01,  2.56088524e+01,  2.53244495e+01,\n",
              "        2.51994267e+01,  2.50752144e+01,  2.49026432e+01,  2.47007866e+01,\n",
              "        2.45079403e+01,  2.44035873e+01,  2.41996078e+01,  2.40968971e+01,\n",
              "        2.39923134e+01,  2.39089546e+01,  2.35836620e+01,  2.34166183e+01,\n",
              "        2.33157425e+01,  2.32469769e+01,  2.30009518e+01,  2.29410019e+01,\n",
              "        2.27101097e+01,  2.25541916e+01,  2.24406204e+01,  2.21941681e+01,\n",
              "        2.20656223e+01,  2.20056458e+01,  2.18002720e+01,  2.16844311e+01,\n",
              "        2.15317993e+01,  2.13622379e+01,  2.12625637e+01,  2.11179352e+01,\n",
              "        2.08673153e+01,  2.07485447e+01,  2.04788570e+01,  2.03936234e+01,\n",
              "        2.02198219e+01,  2.01171112e+01,  2.00654259e+01,  1.99451599e+01,\n",
              "        1.97769127e+01,  1.96429176e+01,  1.95880661e+01,  1.94759712e+01,\n",
              "        1.93770313e+01,  1.91085529e+01,  1.88480110e+01,  1.87745972e+01,\n",
              "        1.86111698e+01,  1.85079975e+01,  1.82632828e+01,  1.81437836e+01,\n",
              "        1.80342674e+01,  1.79885063e+01,  1.78783665e+01,  1.77275562e+01,\n",
              "        1.75340958e+01,  1.74503345e+01,  1.73334389e+01,  1.72303333e+01,\n",
              "        1.71334419e+01,  1.70221958e+01,  1.68484268e+01,  1.67220955e+01,\n",
              "        1.66222992e+01,  1.65744743e+01,  1.63969688e+01,  1.63011627e+01,\n",
              "        1.60928478e+01,  1.60335369e+01,  1.58890619e+01,  1.56135702e+01,\n",
              "        1.55929604e+01,  1.55174761e+01,  1.52989941e+01,  1.52262735e+01,\n",
              "        1.51639900e+01,  1.51230497e+01,  1.50739698e+01,  1.49807386e+01,\n",
              "        1.47164583e+01,  1.46425829e+01,  1.45536518e+01,  1.43354616e+01,\n",
              "        1.42681170e+01,  1.42379875e+01,  1.40789127e+01,  1.40515680e+01,\n",
              "        1.38663511e+01,  1.36966867e+01,  1.36038523e+01,  1.35755339e+01,\n",
              "        1.34864264e+01,  1.34555330e+01,  1.32414961e+01,  1.30949163e+01,\n",
              "        1.30344439e+01,  1.30083418e+01,  1.29593077e+01,  1.29053869e+01,\n",
              "        1.26942997e+01,  1.26235266e+01,  1.24010382e+01,  1.23319817e+01,\n",
              "        1.22646322e+01,  1.21670322e+01,  1.20652189e+01,  1.19802685e+01,\n",
              "        1.18669739e+01,  1.18038340e+01,  1.17545795e+01,  1.16466856e+01,\n",
              "        1.15736513e+01,  1.14519157e+01,  1.14045420e+01,  1.12762308e+01,\n",
              "        1.12115221e+01,  1.10906296e+01,  1.09885607e+01,  1.09294252e+01,\n",
              "        1.08295946e+01,  1.07758989e+01,  1.06583204e+01,  1.04904137e+01,\n",
              "        1.04418058e+01,  1.03720789e+01,  1.03345547e+01,  1.02640047e+01,\n",
              "        1.00775442e+01,  1.00326405e+01,  9.94253826e+00,  9.86983299e+00,\n",
              "        9.72053051e+00,  9.67080307e+00,  9.60108376e+00,  9.51404476e+00,\n",
              "        9.44644356e+00,  9.40230656e+00,  9.33822060e+00,  9.30124283e+00,\n",
              "        9.25380421e+00,  9.18398476e+00,  9.10550976e+00,  8.95723820e+00,\n",
              "        8.87690544e+00,  8.82188129e+00,  8.75442028e+00,  8.68792725e+00,\n",
              "        8.62998199e+00,  8.58343792e+00,  8.45255566e+00,  8.36736012e+00,\n",
              "        8.33041954e+00,  8.27334309e+00,  8.22605419e+00,  8.15173054e+00,\n",
              "        8.04770374e+00,  8.02241707e+00,  7.95677090e+00,  7.89575338e+00,\n",
              "        7.81063557e+00,  7.71132898e+00,  7.67577553e+00,  7.56179762e+00,\n",
              "        7.53907585e+00,  7.43700075e+00,  7.42711639e+00,  7.33246088e+00,\n",
              "        7.25493240e+00,  7.21961260e+00,  7.16460991e+00,  7.12207460e+00,\n",
              "        7.03177929e+00,  6.97320843e+00,  6.91964054e+00,  6.88099003e+00,\n",
              "        6.77371407e+00,  6.65188503e+00,  6.59867096e+00,  6.55900145e+00,\n",
              "        6.47246075e+00,  6.45530224e+00,  6.38512611e+00,  6.30710793e+00,\n",
              "        6.24732876e+00,  6.17654610e+00,  6.15796900e+00,  6.10901022e+00,\n",
              "        6.03189278e+00,  5.94930935e+00,  5.88107491e+00,  5.85657549e+00,\n",
              "        5.81647587e+00,  5.75100183e+00,  5.70043087e+00,  5.64209318e+00,\n",
              "        5.63346529e+00,  5.58543491e+00,  5.51657104e+00,  5.46217251e+00,\n",
              "        5.40517616e+00,  5.35187197e+00,  5.33114624e+00,  5.28916693e+00,\n",
              "        5.19619656e+00,  5.14264774e+00,  5.07436180e+00,  5.07053232e+00,\n",
              "        4.95950222e+00,  4.93249416e+00,  4.89349937e+00,  4.79656887e+00,\n",
              "        4.78461170e+00,  4.74270868e+00,  4.69308233e+00,  4.67896366e+00,\n",
              "        4.64829493e+00,  4.59104013e+00,  4.53866720e+00,  4.49959755e+00,\n",
              "        4.44874668e+00,  4.39401197e+00,  4.34610796e+00,  4.32988977e+00,\n",
              "        4.30794907e+00,  4.28593922e+00,  4.25240135e+00,  4.20860958e+00,\n",
              "        4.18427992e+00,  4.13967323e+00,  4.11838722e+00,  4.01110697e+00,\n",
              "        3.97922134e+00,  3.95508575e+00,  3.94367671e+00,  3.91372252e+00,\n",
              "        3.86075187e+00,  3.83010173e+00,  3.80182338e+00,  3.78015685e+00,\n",
              "        3.73368812e+00,  3.69208193e+00,  3.62625623e+00,  3.61163259e+00,\n",
              "        3.60232806e+00,  3.51893544e+00,  3.48849559e+00,  3.45789838e+00,\n",
              "        3.43666911e+00,  3.39617610e+00,  3.37427497e+00,  3.33523583e+00,\n",
              "        3.28363156e+00,  3.26132560e+00,  3.25072885e+00,  3.20242929e+00,\n",
              "        3.17951679e+00,  3.16208458e+00,  3.07448149e+00,  3.05873060e+00,\n",
              "        3.03551579e+00,  3.00926685e+00,  2.96158934e+00,  2.93753910e+00,\n",
              "        2.89590788e+00,  2.86682677e+00,  2.84711051e+00,  2.81957865e+00,\n",
              "        2.78862166e+00,  2.77882361e+00,  2.75708890e+00,  2.73720622e+00,\n",
              "        2.70863891e+00,  2.65095401e+00,  2.62633014e+00,  2.59701824e+00,\n",
              "        2.57816935e+00,  2.54759979e+00,  2.51486564e+00,  2.46663857e+00,\n",
              "        2.44022608e+00,  2.43070936e+00,  2.40742040e+00,  2.40125942e+00,\n",
              "        2.35082531e+00,  2.31408954e+00,  2.28831816e+00,  2.28484774e+00,\n",
              "        2.28207278e+00,  2.23643351e+00,  2.22014332e+00,  2.17878866e+00,\n",
              "        2.16441250e+00,  2.13271832e+00,  2.11245060e+00,  2.09431338e+00,\n",
              "        2.06832409e+00,  2.05057287e+00,  2.01524091e+00,  2.00436354e+00,\n",
              "        1.98452020e+00,  1.97356725e+00,  1.92352712e+00,  1.91342056e+00,\n",
              "        1.87775159e+00,  1.86733615e+00,  1.85613477e+00,  1.82452011e+00,\n",
              "        1.80952072e+00,  1.78861582e+00,  1.74487674e+00,  1.72535038e+00,\n",
              "        1.70582175e+00,  1.69293153e+00,  1.68480420e+00,  1.64944136e+00,\n",
              "        1.63843429e+00,  1.63076758e+00,  1.61127603e+00,  1.58589256e+00,\n",
              "        1.56090426e+00,  1.53990185e+00,  1.53449488e+00,  1.49371970e+00,\n",
              "        1.48560011e+00,  1.46552312e+00,  1.46179700e+00,  1.44085205e+00,\n",
              "        1.41301036e+00,  1.40436232e+00,  1.37122118e+00,  1.35465658e+00,\n",
              "        1.33291852e+00,  1.32447600e+00,  1.30394709e+00,  1.29124463e+00,\n",
              "        1.28749514e+00,  1.27699828e+00,  1.23818934e+00,  1.21974194e+00,\n",
              "        1.21098816e+00,  1.19216406e+00,  1.18867743e+00,  1.16283119e+00,\n",
              "        1.14918005e+00,  1.14351761e+00,  1.12967825e+00,  1.09655118e+00,\n",
              "        1.08986592e+00,  1.08355856e+00,  1.07220566e+00,  1.06987679e+00,\n",
              "        1.04994249e+00,  1.03139222e+00,  1.02269995e+00,  1.00568569e+00,\n",
              "        9.88084972e-01,  9.67518628e-01,  9.61522043e-01,  9.52036083e-01,\n",
              "        9.31397438e-01,  9.15534317e-01,  8.98010969e-01,  8.94804120e-01,\n",
              "        8.82918835e-01,  8.64103913e-01,  8.49674344e-01,  8.44850957e-01,\n",
              "        8.29838455e-01,  8.17502975e-01,  8.10271263e-01,  8.00260007e-01,\n",
              "        7.83936024e-01,  7.65839517e-01,  7.64938235e-01,  7.55812585e-01,\n",
              "        7.46056437e-01,  7.34013557e-01,  7.24427044e-01,  7.19714046e-01,\n",
              "        7.04410553e-01,  7.01591492e-01,  6.79668725e-01,  6.75251245e-01,\n",
              "        6.61007285e-01,  6.55070901e-01,  6.47588611e-01,  6.38448238e-01,\n",
              "        6.23497546e-01,  6.07094586e-01,  5.96170008e-01,  5.92544973e-01,\n",
              "        5.83180547e-01,  5.78148901e-01,  5.67302406e-01,  5.63192070e-01,\n",
              "        5.57712078e-01,  5.46356320e-01,  5.36045194e-01,  5.21980107e-01,\n",
              "        5.14565766e-01,  5.08012712e-01,  4.96629477e-01,  4.91277337e-01,\n",
              "        4.84974146e-01,  4.77953315e-01,  4.74313974e-01,  4.66383338e-01,\n",
              "        4.59915757e-01,  4.45986897e-01,  4.42143351e-01,  4.33427781e-01,\n",
              "        4.23724622e-01,  4.17315573e-01,  4.07314062e-01,  4.00483102e-01,\n",
              "        3.87714267e-01,  3.84923786e-01,  3.83639246e-01,  3.76494914e-01,\n",
              "        3.62493962e-01,  3.55934083e-01,  3.52604985e-01,  3.43939424e-01,\n",
              "        3.34863424e-01,  3.29914153e-01,  3.23817611e-01,  3.20710331e-01,\n",
              "        3.17537397e-01,  3.14141542e-01,  3.09884310e-01,  3.01553011e-01,\n",
              "        2.95249104e-01,  2.87564516e-01,  2.84823835e-01,  2.83671290e-01,\n",
              "        2.74396271e-01,  2.70919412e-01,  2.61947066e-01,  2.58700341e-01,\n",
              "        2.55770743e-01,  2.48324454e-01,  2.47016758e-01,  2.45858520e-01,\n",
              "        2.41380364e-01,  2.33987540e-01,  2.31381446e-01,  2.25351483e-01,\n",
              "        2.21830130e-01,  2.11625963e-01,  2.10683495e-01,  2.07610011e-01,\n",
              "        2.05176696e-01,  2.00654000e-01,  1.95292518e-01,  1.90546900e-01,\n",
              "        1.87850490e-01,  1.84008926e-01,  1.77714407e-01,  1.74063399e-01,\n",
              "        1.68831378e-01,  1.67093545e-01,  1.63111538e-01,  1.57558560e-01,\n",
              "        1.54257283e-01,  1.52359590e-01,  1.50209442e-01,  1.43444747e-01,\n",
              "        1.40914664e-01,  1.38367787e-01,  1.35335788e-01,  1.33175477e-01,\n",
              "        1.30582690e-01,  1.27555609e-01,  1.24635831e-01,  1.20038316e-01,\n",
              "        1.18460327e-01,  1.16131693e-01,  1.12397343e-01,  1.08251676e-01,\n",
              "        1.04122221e-01,  1.01641864e-01,  9.98529792e-02,  9.86713916e-02,\n",
              "        9.71582234e-02,  9.35997069e-02,  9.19375122e-02,  8.82910192e-02,\n",
              "        8.50449204e-02,  8.40447992e-02,  8.24757665e-02,  8.07127208e-02,\n",
              "        7.92354792e-02,  7.70034790e-02,  7.57476240e-02,  7.23691285e-02,\n",
              "        7.06539303e-02,  6.95635080e-02,  6.74510449e-02,  6.36411309e-02,\n",
              "        6.02852814e-02,  5.99079244e-02,  5.90337180e-02,  5.74804135e-02,\n",
              "        5.73884025e-02,  5.39920293e-02,  5.20886965e-02,  5.14282025e-02,\n",
              "        5.05738072e-02,  4.89954986e-02,  4.62818779e-02,  4.57572751e-02,\n",
              "        4.39501069e-02,  4.23857309e-02,  4.11767215e-02,  4.09902185e-02,\n",
              "        3.88294347e-02,  3.68473716e-02,  3.56450342e-02,  3.48059647e-02,\n",
              "        3.38461883e-02,  3.32892127e-02,  3.26215290e-02,  3.10271718e-02,\n",
              "        3.00056823e-02,  2.85701565e-02,  2.73159929e-02,  2.65406482e-02,\n",
              "        2.56736688e-02,  2.42400132e-02,  2.30365954e-02,  2.23399960e-02,\n",
              "        2.10960545e-02,  2.06287093e-02,  2.04785559e-02,  1.97211020e-02,\n",
              "        1.88116021e-02,  1.83453001e-02,  1.74393356e-02,  1.66878067e-02,\n",
              "        1.55087821e-02,  1.39659010e-02,  1.37767084e-02,  1.35568194e-02,\n",
              "        1.33263506e-02,  1.27565786e-02,  1.22410916e-02,  1.16106644e-02,\n",
              "        1.10481493e-02,  1.03723556e-02,  1.02094933e-02,  9.30234417e-03,\n",
              "        8.78557190e-03,  8.32537189e-03,  8.13428871e-03,  8.05200543e-03,\n",
              "        7.32854381e-03,  6.86607882e-03,  6.59018010e-03,  6.20752946e-03,\n",
              "        5.76341897e-03,  5.55203436e-03,  5.44333365e-03,  5.03478572e-03,\n",
              "        4.77324240e-03,  4.66767559e-03,  4.45499271e-03,  4.09620628e-03,\n",
              "        3.83229298e-03,  3.69748008e-03,  3.44217569e-03,  3.29049304e-03,\n",
              "        3.01598571e-03,  2.97074299e-03,  2.86439783e-03,  2.37755105e-03,\n",
              "        2.17973674e-03,  2.07270938e-03,  1.94473378e-03,  1.84124033e-03,\n",
              "        1.65870413e-03,  1.47338957e-03,  1.29600114e-03,  1.19027751e-03,\n",
              "        1.08739617e-03,  9.82568017e-04,  9.03754728e-04,  8.67006253e-04,\n",
              "        7.91096070e-04,  6.78263255e-04,  6.40775252e-04,  5.92157419e-04,\n",
              "        5.45810326e-04,  5.22467075e-04,  4.48493083e-04,  3.54109594e-04,\n",
              "        3.39080958e-04,  2.79810542e-04,  2.20940245e-04,  1.94882770e-04,\n",
              "        1.69510895e-04,  1.22520723e-04,  1.03186372e-04,  8.20204150e-05,\n",
              "        7.45434809e-05,  7.30050087e-05,  6.37169505e-05,  5.87240065e-05,\n",
              "        5.86895330e-05,  5.14655694e-05,  2.76835781e-05,  1.67466278e-05,\n",
              "        1.30276349e-05,  6.97228643e-06,  6.37088988e-06,  5.49656534e-06,\n",
              "        3.42477961e-06,  2.25396479e-06,  1.54167537e-06, -2.72300235e-06],\n",
              "      dtype=float32)"
            ]
          },
          "metadata": {},
          "execution_count": 12
        }
      ]
    },
    {
      "cell_type": "code",
      "source": [
        "import matplotlib.pyplot as plt\n",
        "from tqdm import tqdm\n",
        "\n",
        "times = []\n",
        "dim_range = range(1, 1001, 100)\n",
        "repeats = 100\n",
        "\n",
        "for i in tqdm(dim_range):\n",
        "    sum_time = 0\n",
        "    for j in range(repeats):\n",
        "        measured_time, _, _ = synthetic_data_experiments(n=1000, dim=i, seed=0)\n",
        "        sum_time += measured_time\n",
        "    sum_time /= repeats\n",
        "    times.append(sum_time)\n"
      ],
      "metadata": {
        "colab": {
          "base_uri": "https://localhost:8080/"
        },
        "id": "ZltmrAI1ldkY",
        "outputId": "7b7ebcc1-ba60-47bf-c1fe-30f93ed71b7c"
      },
      "execution_count": 27,
      "outputs": [
        {
          "output_type": "stream",
          "name": "stderr",
          "text": [
            "100%|██████████| 10/10 [05:15<00:00, 31.57s/it]\n"
          ]
        }
      ]
    },
    {
      "cell_type": "code",
      "source": [
        "plt.plot(dim_range, times)\n",
        "plt.xlabel(\"Dimension\")\n",
        "plt.ylabel(\"Time (sec.)\")\n",
        "plt.savefig(\"time.pdf\", bbox_inches='tight')"
      ],
      "metadata": {
        "colab": {
          "base_uri": "https://localhost:8080/",
          "height": 449
        },
        "id": "DAZkzRfK4FY0",
        "outputId": "37aa4818-287d-4beb-bc12-560364d0b5c0"
      },
      "execution_count": 29,
      "outputs": [
        {
          "output_type": "display_data",
          "data": {
            "text/plain": [
              "<Figure size 640x480 with 1 Axes>"
            ],
            "image/png": "[encoded data removed]"
          },
          "metadata": {}
        }
      ]
    },
    {
      "cell_type": "markdown",
      "source": [
        "# MNIST"
      ],
      "metadata": {
        "id": "ylhE6j-aWqRs"
      }
    },
    {
      "cell_type": "code",
      "source": [
        "from keras.datasets import mnist\n",
        "\n",
        "(train_X, train_y), (test_X, test_y) = mnist.load_data()\n",
        "print('X_train: ' + str(train_X.shape))\n",
        "print('Y_train: ' + str(train_y.shape))\n",
        "print('X_test:  '  + str(test_X.shape))\n",
        "print('Y_test:  '  + str(test_y.shape))\n",
        "flattened_train = train_X.reshape(60000, 784)"
      ],
      "metadata": {
        "colab": {
          "base_uri": "https://localhost:8080/"
        },
        "id": "JYySU9b4d8A4",
        "outputId": "fb6ecf2d-9ce5-4f19-a356-04758456d209"
      },
      "execution_count": 30,
      "outputs": [
        {
          "output_type": "stream",
          "name": "stdout",
          "text": [
            "Downloading data from https://storage.googleapis.com/tensorflow/tf-keras-datasets/mnist.npz\n",
            "11490434/11490434 [==============================] - 0s 0us/step\n",
            "X_train: (60000, 28, 28)\n",
            "Y_train: (60000,)\n",
            "X_test:  (10000, 28, 28)\n",
            "Y_test:  (10000,)\n"
          ]
        }
      ]
    },
    {
      "cell_type": "code",
      "source": [
        "import time\n",
        "\n",
        "start_time = time.time()\n",
        "target_eigenvalues, target_eigenvectors = compute_ground_truths(flattened_train)\n",
        "finish_time = time.time()\n",
        "print(finish_time - start_time)"
      ],
      "metadata": {
        "colab": {
          "base_uri": "https://localhost:8080/"
        },
        "id": "WkY2bLSWOzNY",
        "outputId": "573aef4c-5d7c-4d4f-a13c-c29d28e12e4a"
      },
      "execution_count": 31,
      "outputs": [
        {
          "output_type": "stream",
          "name": "stdout",
          "text": [
            "224.15138578414917\n"
          ]
        }
      ]
    },
    {
      "cell_type": "code",
      "source": [
        "plt.plot(target_eigenvalues)\n",
        "plt.xlabel(\"Num of eigenvalue\")\n",
        "plt.ylabel(\"Eigenvalue\")\n",
        "plt.title(\"Eigenvalues of MNIST dataset\")\n",
        "plt.savefig(\"mnist.pdf\", bbox_inches='tight')"
      ],
      "metadata": {
        "colab": {
          "base_uri": "https://localhost:8080/",
          "height": 472
        },
        "id": "UNpSUg407e_H",
        "outputId": "7e4e7505-67f4-4f2e-999c-07a31b88895f"
      },
      "execution_count": 33,
      "outputs": [
        {
          "output_type": "display_data",
          "data": {
            "text/plain": [
              "<Figure size 640x480 with 1 Axes>"
            ],
            "image/png": "[encoded data removed]"
          },
          "metadata": {}
        }
      ]
    },
    {
      "cell_type": "code",
      "source": [
        "target_eigenvalues"
      ],
      "metadata": {
        "colab": {
          "base_uri": "https://localhost:8080/"
        },
        "id": "bpGtzJqpPz3P",
        "outputId": "c54ddbc4-7515-49ec-ee33-93ba919e34de"
      },
      "execution_count": null,
      "outputs": [
        {
          "output_type": "execute_result",
          "data": {
            "text/plain": [
              "array([ 1.21787036e+00,  1.83410311e-01,  1.36128397e-01,  1.17611127e-01,\n",
              "        1.09463620e-01,  7.96193294e-02,  7.60506843e-02,  7.01890434e-02,\n",
              "        6.74461290e-02,  6.48550534e-02,  6.40054273e-02,  6.20617055e-02,\n",
              "        6.03429458e-02,  5.99679190e-02,  5.95795271e-02,  5.91057148e-02,\n",
              "        5.83472930e-02,  5.81490640e-02,  5.73261352e-02,  5.70553826e-02,\n",
              "        5.68550793e-02,  5.65300700e-02,  5.59077404e-02,  5.56142753e-02,\n",
              "        5.53974974e-02,  5.47432362e-02,  5.44236416e-02,  5.42013161e-02,\n",
              "        5.38828202e-02,  5.37473440e-02,  5.30328515e-02,  5.28655616e-02,\n",
              "        5.24173460e-02,  5.19236331e-02,  5.17866602e-02,  5.13349564e-02,\n",
              "        5.10742847e-02,  5.07098516e-02,  5.06875256e-02,  5.02263878e-02,\n",
              "        5.01061095e-02,  4.95835035e-02,  4.92541318e-02,  4.90465767e-02,\n",
              "        4.90080243e-02,  4.87887459e-02,  4.83027973e-02,  4.81242648e-02,\n",
              "        4.80551674e-02,  4.77356508e-02,  4.76542265e-02,  4.74719325e-02,\n",
              "        4.73119683e-02,  4.71639983e-02,  4.65171208e-02,  4.62936264e-02,\n",
              "        4.59098171e-02,  4.56303432e-02,  4.55467969e-02,  4.52929297e-02,\n",
              "        4.52478856e-02,  4.50465511e-02,  4.47473618e-02,  4.45530473e-02,\n",
              "        4.43462097e-02,  4.39756761e-02,  4.38648591e-02,  4.37189774e-02,\n",
              "        4.31877912e-02,  4.30855286e-02,  4.29246313e-02,  4.26990263e-02,\n",
              "        4.26557102e-02,  4.24042440e-02,  4.21597409e-02,  4.20074376e-02,\n",
              "        4.18777960e-02,  4.14071026e-02,  4.12962145e-02,  4.10709553e-02,\n",
              "        4.10157702e-02,  4.09164144e-02,  4.07548694e-02,  4.05547116e-02,\n",
              "        4.03559578e-02,  4.00045621e-02,  3.98332268e-02,  3.94939998e-02,\n",
              "        3.94635240e-02,  3.92205071e-02,  3.91021716e-02,  3.87651286e-02,\n",
              "        3.85405154e-02,  3.84981451e-02,  3.81618724e-02,  3.80614315e-02,\n",
              "        3.78740726e-02,  3.76501450e-02,  3.74044864e-02,  3.72463948e-02,\n",
              "        3.70196090e-02,  3.69975064e-02,  3.67975373e-02,  3.67094835e-02,\n",
              "        3.64590219e-02,  3.63202804e-02,  3.60715571e-02,  3.58844565e-02,\n",
              "        3.57620483e-02,  3.54909872e-02,  3.54125710e-02,  3.53111304e-02,\n",
              "        3.50341194e-02,  3.49858277e-02,  3.47687141e-02,  3.45606694e-02,\n",
              "        3.45357597e-02,  3.41430029e-02,  3.40015551e-02,  3.38260960e-02,\n",
              "        3.34570476e-02,  3.32422954e-02,  3.30425477e-02,  3.28454035e-02,\n",
              "        3.27692749e-02,  3.25817520e-02,  3.24623303e-02,  3.23291719e-02,\n",
              "        3.20757288e-02,  3.19550441e-02,  3.17341955e-02,  3.16424403e-02,\n",
              "        3.14668896e-02,  3.12509946e-02,  3.11308578e-02,  3.10049495e-02,\n",
              "        3.08861728e-02,  3.06899256e-02,  3.06176162e-02,  3.04760435e-02,\n",
              "        3.03485285e-02,  3.00915572e-02,  2.99391265e-02,  2.97635233e-02,\n",
              "        2.95094924e-02,  2.94016958e-02,  2.92010112e-02,  2.90888837e-02,\n",
              "        2.89569440e-02,  2.88314556e-02,  2.87149394e-02,  2.85700587e-02,\n",
              "        2.83615694e-02,  2.83407101e-02,  2.81215736e-02,  2.77753374e-02,\n",
              "        2.75573609e-02,  2.75530570e-02,  2.73893212e-02,  2.72749345e-02,\n",
              "        2.71032394e-02,  2.68973851e-02,  2.64483904e-02,  2.62390310e-02,\n",
              "        2.61361461e-02,  2.60590851e-02,  2.58621624e-02,  2.56661595e-02,\n",
              "        2.56323381e-02,  2.54871534e-02,  2.54099961e-02,  2.51879928e-02,\n",
              "        2.49952593e-02,  2.48099908e-02,  2.46508931e-02,  2.45690612e-02,\n",
              "        2.44767237e-02,  2.43960154e-02,  2.40322525e-02,  2.38751365e-02,\n",
              "        2.37907713e-02,  2.35829643e-02,  2.34866321e-02,  2.34025735e-02,\n",
              "        2.32683005e-02,  2.29825744e-02,  2.28383520e-02,  2.27595759e-02,\n",
              "        2.26750228e-02,  2.23154585e-02,  2.22489433e-02,  2.21240315e-02,\n",
              "        2.20780648e-02,  2.19040949e-02,  2.18201507e-02,  2.15470102e-02,\n",
              "        2.13871571e-02,  2.11976998e-02,  2.10330097e-02,  2.09842265e-02,\n",
              "        2.08762202e-02,  2.06859208e-02,  2.05714970e-02,  2.03911655e-02,\n",
              "        2.02895090e-02,  2.01010602e-02,  2.00215201e-02,  1.96922406e-02,\n",
              "        1.93758810e-02,  1.92747311e-02,  1.92641450e-02,  1.91234293e-02,\n",
              "        1.89830480e-02,  1.87236205e-02,  1.86846039e-02,  1.85371229e-02,\n",
              "        1.83924953e-02,  1.82995893e-02,  1.82509600e-02,  1.78209416e-02,\n",
              "        1.76030178e-02,  1.75707346e-02,  1.74700398e-02,  1.74158401e-02,\n",
              "        1.72280294e-02,  1.71612012e-02,  1.69946578e-02,  1.69760030e-02,\n",
              "        1.67917357e-02,  1.65833613e-02,  1.64696429e-02,  1.62878317e-02,\n",
              "        1.61537388e-02,  1.60601366e-02,  1.59302959e-02,  1.58614051e-02,\n",
              "        1.56954197e-02,  1.55491809e-02,  1.54641708e-02,  1.51121877e-02,\n",
              "        1.50592225e-02,  1.49257954e-02,  1.48195886e-02,  1.47015388e-02,\n",
              "        1.45391130e-02,  1.44810604e-02,  1.43133616e-02,  1.41967136e-02,\n",
              "        1.39984460e-02,  1.37517618e-02,  1.35825862e-02,  1.33909652e-02,\n",
              "        1.33530876e-02,  1.31566166e-02,  1.31294393e-02,  1.29995754e-02,\n",
              "        1.29655110e-02,  1.29257002e-02,  1.24679056e-02,  1.24344042e-02,\n",
              "        1.22387798e-02,  1.21337812e-02,  1.20125769e-02,  1.18890757e-02,\n",
              "        1.17846920e-02,  1.16597561e-02,  1.14773990e-02,  1.14459970e-02,\n",
              "        1.13621459e-02,  1.12148231e-02,  1.10638411e-02,  1.09703177e-02,\n",
              "        1.07436925e-02,  1.06197177e-02,  1.04793576e-02,  1.03947215e-02,\n",
              "        1.02818396e-02,  1.02477212e-02,  1.01369344e-02,  1.00629058e-02,\n",
              "        9.92165142e-03,  9.88100641e-03,  9.73294193e-03,  9.56771287e-03,\n",
              "        9.27652733e-03,  9.12751444e-03,  9.08725000e-03,  8.94123679e-03,\n",
              "        8.79360952e-03,  8.68759623e-03,  8.54759356e-03,  8.37649784e-03,\n",
              "        8.23322722e-03,  8.10416440e-03,  7.98572276e-03,  7.90538364e-03,\n",
              "        7.71833519e-03,  7.58185183e-03,  7.46022171e-03,  7.42613946e-03,\n",
              "        7.22357603e-03,  7.06325978e-03,  6.99645883e-03,  6.88086148e-03,\n",
              "        6.64066832e-03,  6.57955783e-03,  6.53757329e-03,  6.42787944e-03,\n",
              "        6.29865724e-03,  6.21391392e-03,  6.10693385e-03,  5.94941852e-03,\n",
              "        5.89372955e-03,  5.73840999e-03,  5.61044550e-03,  5.57825234e-03,\n",
              "        5.42498117e-03,  5.31208727e-03,  5.19080594e-03,  5.03943707e-03,\n",
              "        4.93762273e-03,  4.65535971e-03,  4.52573442e-03,  4.50541118e-03,\n",
              "        4.47072168e-03,  4.25165737e-03,  4.17793643e-03,  4.08966648e-03,\n",
              "        4.01899211e-03,  3.79922583e-03,  3.62672613e-03,  3.56473701e-03,\n",
              "        3.49678036e-03,  3.38169580e-03,  3.28714357e-03,  3.13310414e-03,\n",
              "        3.06718464e-03,  2.98256022e-03,  2.76344241e-03,  2.62779163e-03,\n",
              "        2.37966225e-03,  2.23435930e-03,  2.18260805e-03,  2.13342982e-03,\n",
              "        2.10590335e-03,  2.01124778e-03,  1.91579307e-03,  1.81177379e-03,\n",
              "        1.70961009e-03,  1.45747585e-03,  1.36315961e-03,  1.25904108e-03,\n",
              "        1.16765083e-03,  1.07219476e-03,  9.07023856e-04,  8.18096475e-04,\n",
              "        6.59801153e-04,  5.71784419e-04,  4.76455591e-04,  2.87466400e-04,\n",
              "        2.02496328e-04,  8.04050812e-05,  1.11022302e-16,  7.05117074e-18,\n",
              "        6.46061496e-18,  6.19070018e-18,  4.42047944e-18,  3.68891775e-18,\n",
              "        3.55986546e-18,  2.31292366e-18,  1.87624542e-18,  1.74819458e-18,\n",
              "        1.73852995e-18,  1.34904863e-18,  1.12913138e-18,  1.09383790e-18,\n",
              "        9.34763540e-19,  1.20678228e-19,  3.72757352e-20,  1.49333924e-20,\n",
              "        3.70015667e-33,  3.69210030e-33,  1.02889395e-33,  9.12956207e-34,\n",
              "        3.88174150e-35,  0.00000000e+00,  0.00000000e+00,  0.00000000e+00,\n",
              "        0.00000000e+00,  0.00000000e+00,  0.00000000e+00,  0.00000000e+00,\n",
              "        0.00000000e+00,  0.00000000e+00,  0.00000000e+00,  0.00000000e+00,\n",
              "        0.00000000e+00,  0.00000000e+00,  0.00000000e+00,  0.00000000e+00,\n",
              "        0.00000000e+00, -1.93033168e-34, -8.56016124e-34, -4.73027147e-33,\n",
              "       -5.00465938e-20, -1.97062370e-19, -3.15772742e-19, -3.39962552e-19,\n",
              "       -4.34200316e-19, -5.27787016e-19, -6.30519331e-19, -7.08553942e-19,\n",
              "       -8.37382222e-19, -1.12894499e-18, -1.28480187e-18, -1.33594035e-18,\n",
              "       -1.79744979e-18, -1.90007293e-18, -1.93631544e-18, -1.95090111e-18,\n",
              "       -2.44596449e-18, -2.54538214e-18, -2.63363822e-18, -3.04018798e-18,\n",
              "       -3.22449132e-18, -3.51571775e-18, -1.02202050e-17, -1.18254482e-17,\n",
              "       -1.87715647e-17, -1.93345558e-05, -1.91660411e-04, -2.46893334e-04,\n",
              "       -3.60838540e-04, -5.74018886e-04, -6.39678967e-04, -7.43576468e-04,\n",
              "       -8.42148777e-04, -1.01361159e-03, -1.17466322e-03, -1.30777157e-03,\n",
              "       -1.52641919e-03, -1.55682300e-03, -1.63775679e-03, -1.79159229e-03,\n",
              "       -1.82008507e-03, -1.91110242e-03, -1.98770512e-03, -2.07940453e-03,\n",
              "       -2.33353184e-03, -2.38863677e-03, -2.47918851e-03, -2.56197428e-03,\n",
              "       -2.70195486e-03, -2.80524178e-03, -2.85179778e-03, -2.92322096e-03,\n",
              "       -3.12252691e-03, -3.28122640e-03, -3.37457199e-03, -3.54959263e-03,\n",
              "       -3.63403487e-03, -3.79007396e-03, -3.91237596e-03, -4.02767230e-03,\n",
              "       -4.18206150e-03, -4.34098530e-03, -4.46923867e-03, -4.59155378e-03,\n",
              "       -4.68566112e-03, -4.76954334e-03, -4.84327283e-03, -4.97624330e-03,\n",
              "       -5.17036070e-03, -5.28853085e-03, -5.36357751e-03, -5.55465068e-03,\n",
              "       -5.59954143e-03, -5.74316231e-03, -5.92218790e-03, -5.98737009e-03,\n",
              "       -6.09557626e-03, -6.21145347e-03, -6.32994797e-03, -6.39449082e-03,\n",
              "       -6.57822030e-03, -6.73645591e-03, -6.82012486e-03, -6.93879652e-03,\n",
              "       -7.05107316e-03, -7.15243442e-03, -7.38136304e-03, -7.44876123e-03,\n",
              "       -7.57681967e-03, -7.77748731e-03, -7.82205984e-03, -8.02765954e-03,\n",
              "       -8.16024754e-03, -8.24706790e-03, -8.26487153e-03, -8.41014297e-03,\n",
              "       -8.55331394e-03, -8.78174227e-03, -8.84010328e-03, -8.99372883e-03,\n",
              "       -9.14426535e-03, -9.27389328e-03, -9.36907028e-03, -9.49914728e-03,\n",
              "       -9.65763105e-03, -9.80092474e-03, -9.84254004e-03, -1.00480825e-02,\n",
              "       -1.01825287e-02, -1.03230918e-02, -1.03826931e-02, -1.04288404e-02,\n",
              "       -1.06755197e-02, -1.07561419e-02, -1.07788738e-02, -1.09526543e-02,\n",
              "       -1.10075718e-02, -1.11613782e-02, -1.13985259e-02, -1.15110907e-02,\n",
              "       -1.15764938e-02, -1.18022935e-02, -1.20014702e-02, -1.20346662e-02,\n",
              "       -1.22357973e-02, -1.24405024e-02, -1.25332860e-02, -1.25956610e-02,\n",
              "       -1.29390888e-02, -1.30259325e-02, -1.31641260e-02, -1.32505722e-02,\n",
              "       -1.33532139e-02, -1.35147314e-02, -1.36288948e-02, -1.38385954e-02,\n",
              "       -1.39846151e-02, -1.40857058e-02, -1.41355506e-02, -1.44225666e-02,\n",
              "       -1.45967723e-02, -1.47580965e-02, -1.48412029e-02, -1.49584590e-02,\n",
              "       -1.50371891e-02, -1.52046543e-02, -1.55085595e-02, -1.55204976e-02,\n",
              "       -1.56827166e-02, -1.57957981e-02, -1.60049770e-02, -1.60586857e-02,\n",
              "       -1.62818111e-02, -1.64735938e-02, -1.65196432e-02, -1.66010886e-02,\n",
              "       -1.67362121e-02, -1.69023038e-02, -1.70157080e-02, -1.72676118e-02,\n",
              "       -1.72944406e-02, -1.73450274e-02, -1.76110878e-02, -1.77616869e-02,\n",
              "       -1.78634742e-02, -1.80316277e-02, -1.81836668e-02, -1.84013154e-02,\n",
              "       -1.84050726e-02, -1.86634511e-02, -1.88038458e-02, -1.89731339e-02,\n",
              "       -1.91064062e-02, -1.93680955e-02, -1.94298764e-02, -1.96023547e-02,\n",
              "       -1.97159534e-02, -1.98335717e-02, -1.99142797e-02, -2.00865066e-02,\n",
              "       -2.01702619e-02, -2.03734442e-02, -2.05289663e-02, -2.05500586e-02,\n",
              "       -2.07482278e-02, -2.08863627e-02, -2.11153812e-02, -2.12396437e-02,\n",
              "       -2.15614455e-02, -2.17158827e-02, -2.18300613e-02, -2.19116165e-02,\n",
              "       -2.19702925e-02, -2.20270949e-02, -2.21677161e-02, -2.23407726e-02,\n",
              "       -2.24104020e-02, -2.25176197e-02, -2.28459235e-02, -2.30567252e-02,\n",
              "       -2.31566351e-02, -2.32848398e-02, -2.35472771e-02, -2.37938769e-02,\n",
              "       -2.38981822e-02, -2.40154527e-02, -2.41301142e-02, -2.41975765e-02,\n",
              "       -2.45138800e-02, -2.47883568e-02, -2.48762398e-02, -2.50601418e-02,\n",
              "       -2.51946225e-02, -2.52338259e-02, -2.54004109e-02, -2.54983898e-02,\n",
              "       -2.58371443e-02, -2.59134087e-02, -2.60713441e-02, -2.62588867e-02,\n",
              "       -2.63641142e-02, -2.66153875e-02, -2.66332723e-02, -2.67811640e-02,\n",
              "       -2.69166339e-02, -2.69969227e-02, -2.71763712e-02, -2.75886301e-02,\n",
              "       -2.76495498e-02, -2.77130336e-02, -2.79493203e-02, -2.81047667e-02,\n",
              "       -2.81483377e-02, -2.84462712e-02, -2.86579118e-02, -2.88147039e-02,\n",
              "       -2.89001463e-02, -2.91556049e-02, -2.92595014e-02, -2.94732963e-02,\n",
              "       -2.96236261e-02, -2.96757044e-02, -3.00693272e-02, -3.01158804e-02,\n",
              "       -3.02637515e-02, -3.03702913e-02, -3.06574138e-02, -3.07803542e-02,\n",
              "       -3.09238497e-02, -3.10509865e-02, -3.13391880e-02, -3.17031810e-02,\n",
              "       -3.18084720e-02, -3.20179153e-02, -3.21067441e-02, -3.22287305e-02,\n",
              "       -3.24000444e-02, -3.24844936e-02, -3.25563929e-02, -3.28398398e-02,\n",
              "       -3.31923417e-02, -3.32870049e-02, -3.34723788e-02, -3.36258315e-02,\n",
              "       -3.37446248e-02, -3.38359778e-02, -3.40309903e-02, -3.42485993e-02,\n",
              "       -3.43356568e-02, -3.45903746e-02, -3.48081064e-02, -3.49252923e-02,\n",
              "       -3.51017550e-02, -3.52847933e-02, -3.54759991e-02, -3.57191604e-02,\n",
              "       -3.58251189e-02, -3.59382942e-02, -3.61147445e-02, -3.62480699e-02,\n",
              "       -3.65121085e-02, -3.66283869e-02, -3.68005464e-02, -3.70656408e-02,\n",
              "       -3.73883906e-02, -3.75445084e-02, -3.77425580e-02, -3.80814189e-02,\n",
              "       -3.82039976e-02, -3.83355818e-02, -3.84840765e-02, -3.85383562e-02,\n",
              "       -3.87325568e-02, -3.89599582e-02, -3.91061913e-02, -3.92961014e-02,\n",
              "       -3.94735922e-02, -3.96623886e-02, -3.98550589e-02, -4.00397739e-02,\n",
              "       -4.01701119e-02, -4.03803575e-02, -4.10215863e-02, -4.12278305e-02,\n",
              "       -4.13794545e-02, -4.16924229e-02, -4.18377914e-02, -4.19360419e-02,\n",
              "       -4.22147172e-02, -4.23172232e-02, -4.27320561e-02, -4.29917089e-02,\n",
              "       -4.30542528e-02, -4.32502399e-02, -4.33281661e-02, -4.34742352e-02,\n",
              "       -4.36154757e-02, -4.38844907e-02, -4.41023933e-02, -4.44381688e-02,\n",
              "       -4.44891918e-02, -4.47661567e-02, -4.52296100e-02, -4.55526247e-02,\n",
              "       -4.55574375e-02, -4.56842776e-02, -4.59931691e-02, -4.61530316e-02,\n",
              "       -4.62882335e-02, -4.65460251e-02, -4.69802671e-02, -4.73389694e-02,\n",
              "       -4.74198817e-02, -4.77576955e-02, -4.79604858e-02, -4.80778392e-02,\n",
              "       -4.81642951e-02, -4.85996110e-02, -4.88588550e-02, -4.89341405e-02,\n",
              "       -4.93836300e-02, -4.95507739e-02, -4.97309170e-02, -5.02002895e-02,\n",
              "       -5.09089308e-02, -5.10948663e-02, -5.11304635e-02, -5.13181842e-02,\n",
              "       -5.18062760e-02, -5.18868657e-02, -5.22622427e-02, -5.27045232e-02,\n",
              "       -5.28489334e-02, -5.32905210e-02, -5.36165918e-02, -5.38477914e-02,\n",
              "       -5.40335685e-02, -5.44519213e-02, -5.48304888e-02, -5.51744716e-02,\n",
              "       -5.54348128e-02, -5.57214230e-02, -5.59053773e-02, -5.66090457e-02,\n",
              "       -5.69425566e-02, -5.74110308e-02, -5.77261154e-02, -5.82918315e-02,\n",
              "       -5.91528282e-02, -6.07036069e-02, -6.10162110e-02, -6.14774316e-02,\n",
              "       -6.52987778e-02, -6.65957635e-02, -6.69165359e-02, -6.90148042e-02,\n",
              "       -7.95923954e-02, -8.55295713e-02, -1.07528569e-01, -2.50551839e-01])"
            ]
          },
          "metadata": {},
          "execution_count": 9
        }
      ]
    },
    {
      "cell_type": "markdown",
      "source": [
        "# Facebook graph"
      ],
      "metadata": {
        "id": "tGA5_YIDQUij"
      }
    },
    {
      "cell_type": "code",
      "source": [
        "!wget https://raw.githubusercontent.com/benedekrozemberczki/GEMSEC/master/data/artist_edges.csv\n",
        "!wget https://raw.githubusercontent.com/benedekrozemberczki/GEMSEC/master/data/athletes_edges.csv\n",
        "!wget https://raw.githubusercontent.com/benedekrozemberczki/GEMSEC/master/data/company_edges.csv\n",
        "!wget https://raw.githubusercontent.com/benedekrozemberczki/GEMSEC/master/data/government_edges.csv\n",
        "!wget https://raw.githubusercontent.com/benedekrozemberczki/GEMSEC/master/data/new_sites_edges.csv\n",
        "!wget https://raw.githubusercontent.com/benedekrozemberczki/GEMSEC/master/data/politician_edges.csv\n",
        "!wget https://raw.githubusercontent.com/benedekrozemberczki/GEMSEC/master/data/public_figure_edges.csv\n",
        "!wget https://raw.githubusercontent.com/benedekrozemberczki/GEMSEC/master/data/tvshow_edges.csv"
      ],
      "metadata": {
        "id": "3XrlSLE_QWk_"
      },
      "execution_count": null,
      "outputs": []
    },
    {
      "cell_type": "code",
      "source": [
        "import csv\n",
        "import numpy as np\n",
        "from scipy.sparse import coo_matrix\n",
        "\n",
        "edge_cnt = 0\n",
        "node_cnt = 0\n",
        "sparse_data = []\n",
        "sparse_i = []\n",
        "sparse_j = []\n",
        "\n",
        "M = 1380293\n",
        "N = 134833\n",
        "\n",
        "for filename in [\n",
        "    'new_sites_edges.csv',\n",
        "                #  'politician_edges.csv',\n",
        "                #  'public_figure_edges.csv',\n",
        "                #  'tvshow_edges.csv',\n",
        "                #  'artist_edges.csv',\n",
        "                #  'athletes_edges.csv',\n",
        "                #  'company_edges.csv',\n",
        "                #  'government_edges.csv'\n",
        "                 ]:\n",
        "    with open(filename, newline='\\n') as csvfile:\n",
        "        reader = csv.reader(csvfile, delimiter=',')\n",
        "        header = True\n",
        "        max_node = 0\n",
        "        for row in reader:\n",
        "            if header:\n",
        "                header = False\n",
        "            else:\n",
        "                a, b = row\n",
        "                a = int(a)\n",
        "                b = int(b)\n",
        "                sparse_data.append(1)\n",
        "                sparse_i.append(edge_cnt)\n",
        "                sparse_j.append(a + node_cnt)\n",
        "                sparse_data.append(-1)\n",
        "                sparse_i.append(edge_cnt)\n",
        "                sparse_j.append(b + node_cnt)\n",
        "                edge_cnt += 1\n",
        "                max_node = max(max_node, max(a + 1, b + 1))\n",
        "        node_cnt += max_node\n",
        "\n",
        "matrix = coo_matrix((sparse_data, (sparse_i, sparse_j)))\n",
        "print(matrix.shape)"
      ],
      "metadata": {
        "colab": {
          "base_uri": "https://localhost:8080/"
        },
        "id": "yDKa8szZKh-8",
        "outputId": "c9c62ca1-5901-43df-8075-a7a55f960c54"
      },
      "execution_count": null,
      "outputs": [
        {
          "output_type": "stream",
          "name": "stdout",
          "text": [
            "(206259, 27917)\n"
          ]
        }
      ]
    },
    {
      "cell_type": "code",
      "source": [
        "import time\n",
        "\n",
        "start_time = time.time()\n",
        "target_eigenvalues, target_eigenvectors = compute_ground_truths(\n",
        "    matrix, sparse=True, subset_by_index=(0, 7))\n",
        "finish_time = time.time()\n",
        "print(finish_time - start_time)"
      ],
      "metadata": {
        "colab": {
          "base_uri": "https://localhost:8080/"
        },
        "id": "YD9T6VC3nqGt",
        "outputId": "1952af8f-4192-4ae1-90dc-8cff7a47a095"
      },
      "execution_count": null,
      "outputs": [
        {
          "output_type": "stream",
          "name": "stdout",
          "text": [
            "(27917, 27917)\n",
            "3277.804280757904\n"
          ]
        }
      ]
    },
    {
      "cell_type": "code",
      "source": [
        "target_eigenvalues"
      ],
      "metadata": {
        "colab": {
          "base_uri": "https://localhost:8080/"
        },
        "id": "nQZLue3MsXJr",
        "outputId": "568c4415-49b1-4da4-b4ff-a8c6921e7984"
      },
      "execution_count": null,
      "outputs": [
        {
          "output_type": "execute_result",
          "data": {
            "text/plain": [
              "array([4.20924586e-07, 3.36749985e-07, 3.21351990e-07, 2.95150486e-07,\n",
              "       2.93454187e-07, 2.11551387e-07, 1.34592330e-07, 2.90139192e-19])"
            ]
          },
          "metadata": {},
          "execution_count": 4
        }
      ]
    },
    {
      "cell_type": "code",
      "source": [
        "import pickle\n",
        "\n",
        "with open(\"output.pickle\", \"wb\") as f:\n",
        "    pickle.dump(target_eigenvectors, f)"
      ],
      "metadata": {
        "id": "0_zcPxS0CX8S"
      },
      "execution_count": null,
      "outputs": []
    },
    {
      "cell_type": "code",
      "source": [],
      "metadata": {
        "id": "VIG7zhjtCZTm"
      },
      "execution_count": null,
      "outputs": []
    }
  ]
}